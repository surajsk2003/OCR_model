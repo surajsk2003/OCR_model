{
 "cells": [
  {
   "cell_type": "code",
   "execution_count": 4,
   "id": "9cd1de5e-a55f-46ca-85de-0054b743d9f8",
   "metadata": {},
   "outputs": [
    {
     "name": "stdout",
     "output_type": "stream",
     "text": [
      "Collecting torch\n",
      "  Using cached torch-2.5.1-cp312-none-macosx_11_0_arm64.whl.metadata (28 kB)\n",
      "Collecting torchvision\n",
      "  Downloading torchvision-0.20.1-cp312-cp312-macosx_11_0_arm64.whl.metadata (6.1 kB)\n",
      "Collecting torchaudio\n",
      "  Downloading torchaudio-2.5.1-cp312-cp312-macosx_11_0_arm64.whl.metadata (6.4 kB)\n",
      "Requirement already satisfied: filelock in /Users/surajkumar/anaconda/anaconda3/lib/python3.12/site-packages (from torch) (3.13.1)\n",
      "Requirement already satisfied: typing-extensions>=4.8.0 in /Users/surajkumar/anaconda/anaconda3/lib/python3.12/site-packages (from torch) (4.11.0)\n",
      "Requirement already satisfied: networkx in /Users/surajkumar/anaconda/anaconda3/lib/python3.12/site-packages (from torch) (3.2.1)\n",
      "Requirement already satisfied: jinja2 in /Users/surajkumar/anaconda/anaconda3/lib/python3.12/site-packages (from torch) (3.1.4)\n",
      "Requirement already satisfied: fsspec in /Users/surajkumar/anaconda/anaconda3/lib/python3.12/site-packages (from torch) (2024.3.1)\n",
      "Requirement already satisfied: setuptools in /Users/surajkumar/anaconda/anaconda3/lib/python3.12/site-packages (from torch) (69.5.1)\n",
      "Collecting sympy==1.13.1 (from torch)\n",
      "  Using cached sympy-1.13.1-py3-none-any.whl.metadata (12 kB)\n",
      "Requirement already satisfied: mpmath<1.4,>=1.1.0 in /Users/surajkumar/anaconda/anaconda3/lib/python3.12/site-packages (from sympy==1.13.1->torch) (1.3.0)\n",
      "Requirement already satisfied: numpy in /Users/surajkumar/anaconda/anaconda3/lib/python3.12/site-packages (from torchvision) (1.26.4)\n",
      "Requirement already satisfied: pillow!=8.3.*,>=5.3.0 in /Users/surajkumar/anaconda/anaconda3/lib/python3.12/site-packages (from torchvision) (10.3.0)\n",
      "Requirement already satisfied: MarkupSafe>=2.0 in /Users/surajkumar/anaconda/anaconda3/lib/python3.12/site-packages (from jinja2->torch) (2.1.3)\n",
      "Using cached torch-2.5.1-cp312-none-macosx_11_0_arm64.whl (63.9 MB)\n",
      "Using cached sympy-1.13.1-py3-none-any.whl (6.2 MB)\n",
      "Downloading torchvision-0.20.1-cp312-cp312-macosx_11_0_arm64.whl (1.8 MB)\n",
      "\u001b[2K   \u001b[90m━━━━━━━━━━━━━━━━━━━━━━━━━━━━━━━━━━━━━━━━\u001b[0m \u001b[32m1.8/1.8 MB\u001b[0m \u001b[31m826.9 kB/s\u001b[0m eta \u001b[36m0:00:00\u001b[0m00:01\u001b[0m00:01\u001b[0m\n",
      "\u001b[?25hDownloading torchaudio-2.5.1-cp312-cp312-macosx_11_0_arm64.whl (1.8 MB)\n",
      "\u001b[2K   \u001b[90m━━━━━━━━━━━━━━━━━━━━━━━━━━━━━━━━━━━━━━━━\u001b[0m \u001b[32m1.8/1.8 MB\u001b[0m \u001b[31m569.6 kB/s\u001b[0m eta \u001b[36m0:00:00\u001b[0ma \u001b[36m0:00:01\u001b[0m\n",
      "\u001b[?25hInstalling collected packages: sympy, torch, torchvision, torchaudio\n",
      "  Attempting uninstall: sympy\n",
      "    Found existing installation: sympy 1.12\n",
      "    Uninstalling sympy-1.12:\n",
      "      Successfully uninstalled sympy-1.12\n",
      "Successfully installed sympy-1.13.1 torch-2.5.1 torchaudio-2.5.1 torchvision-0.20.1\n",
      "Note: you may need to restart the kernel to use updated packages.\n"
     ]
    }
   ],
   "source": [
    "pip install torch torchvision torchaudio\n"
   ]
  },
  {
   "cell_type": "code",
   "execution_count": 2,
   "id": "a3b12d7c-218c-4079-9e3f-1861d3481cde",
   "metadata": {},
   "outputs": [
    {
     "name": "stdout",
     "output_type": "stream",
     "text": [
      "Requirement already satisfied: torch in /Users/surajkumar/anaconda/anaconda3/lib/python3.12/site-packages (2.5.1)\n",
      "Requirement already satisfied: torchvision in /Users/surajkumar/anaconda/anaconda3/lib/python3.12/site-packages (0.20.1)\n",
      "Requirement already satisfied: torchaudio in /Users/surajkumar/anaconda/anaconda3/lib/python3.12/site-packages (2.5.1)\n",
      "Requirement already satisfied: filelock in /Users/surajkumar/anaconda/anaconda3/lib/python3.12/site-packages (from torch) (3.13.1)\n",
      "Requirement already satisfied: typing-extensions>=4.8.0 in /Users/surajkumar/anaconda/anaconda3/lib/python3.12/site-packages (from torch) (4.11.0)\n",
      "Requirement already satisfied: networkx in /Users/surajkumar/anaconda/anaconda3/lib/python3.12/site-packages (from torch) (3.2.1)\n",
      "Requirement already satisfied: jinja2 in /Users/surajkumar/anaconda/anaconda3/lib/python3.12/site-packages (from torch) (3.1.4)\n",
      "Requirement already satisfied: fsspec in /Users/surajkumar/anaconda/anaconda3/lib/python3.12/site-packages (from torch) (2024.3.1)\n",
      "Requirement already satisfied: setuptools in /Users/surajkumar/anaconda/anaconda3/lib/python3.12/site-packages (from torch) (69.5.1)\n",
      "Requirement already satisfied: sympy==1.13.1 in /Users/surajkumar/anaconda/anaconda3/lib/python3.12/site-packages (from torch) (1.13.1)\n",
      "Requirement already satisfied: mpmath<1.4,>=1.1.0 in /Users/surajkumar/anaconda/anaconda3/lib/python3.12/site-packages (from sympy==1.13.1->torch) (1.3.0)\n",
      "Requirement already satisfied: numpy in /Users/surajkumar/anaconda/anaconda3/lib/python3.12/site-packages (from torchvision) (1.26.4)\n",
      "Requirement already satisfied: pillow!=8.3.*,>=5.3.0 in /Users/surajkumar/anaconda/anaconda3/lib/python3.12/site-packages (from torchvision) (10.3.0)\n",
      "Requirement already satisfied: MarkupSafe>=2.0 in /Users/surajkumar/anaconda/anaconda3/lib/python3.12/site-packages (from jinja2->torch) (2.1.3)\n",
      "Note: you may need to restart the kernel to use updated packages.\n"
     ]
    }
   ],
   "source": [
    "pip install torch torchvision torchaudio\n"
   ]
  },
  {
   "cell_type": "code",
   "execution_count": 6,
   "id": "6b91993a-8d1f-47b4-85e6-f1da89a5dc8e",
   "metadata": {},
   "outputs": [
    {
     "data": {
      "text/plain": [
       "'/usr/local/bin/tesseract'"
      ]
     },
     "execution_count": 6,
     "metadata": {},
     "output_type": "execute_result"
    }
   ],
   "source": [
    "pytesseract.pytesseract.tesseract_cmd"
   ]
  },
  {
   "cell_type": "code",
   "execution_count": 20,
   "id": "c7aea2f6-07fc-424d-81a8-7a57e249c7e7",
   "metadata": {},
   "outputs": [
    {
     "name": "stdout",
     "output_type": "stream",
     "text": [
      "False\n"
     ]
    }
   ],
   "source": [
    "import torch\n",
    "print(torch.cuda.is_available())\n"
   ]
  },
  {
   "cell_type": "code",
   "execution_count": 22,
   "id": "487ed6ce-fd77-4d3f-aded-6ecedd1203ff",
   "metadata": {},
   "outputs": [
    {
     "name": "stdout",
     "output_type": "stream",
     "text": [
      "Requirement already satisfied: torch in /Users/surajkumar/anaconda/anaconda3/lib/python3.12/site-packages (2.5.1)\n",
      "Requirement already satisfied: torchvision in /Users/surajkumar/anaconda/anaconda3/lib/python3.12/site-packages (0.20.1)\n",
      "Requirement already satisfied: torchaudio in /Users/surajkumar/anaconda/anaconda3/lib/python3.12/site-packages (2.5.1)\n",
      "Requirement already satisfied: filelock in /Users/surajkumar/anaconda/anaconda3/lib/python3.12/site-packages (from torch) (3.13.1)\n",
      "Requirement already satisfied: typing-extensions>=4.8.0 in /Users/surajkumar/anaconda/anaconda3/lib/python3.12/site-packages (from torch) (4.11.0)\n",
      "Requirement already satisfied: networkx in /Users/surajkumar/anaconda/anaconda3/lib/python3.12/site-packages (from torch) (3.2.1)\n",
      "Requirement already satisfied: jinja2 in /Users/surajkumar/anaconda/anaconda3/lib/python3.12/site-packages (from torch) (3.1.4)\n",
      "Requirement already satisfied: fsspec in /Users/surajkumar/anaconda/anaconda3/lib/python3.12/site-packages (from torch) (2024.3.1)\n",
      "Requirement already satisfied: setuptools in /Users/surajkumar/anaconda/anaconda3/lib/python3.12/site-packages (from torch) (69.5.1)\n",
      "Requirement already satisfied: sympy==1.13.1 in /Users/surajkumar/anaconda/anaconda3/lib/python3.12/site-packages (from torch) (1.13.1)\n",
      "Requirement already satisfied: mpmath<1.4,>=1.1.0 in /Users/surajkumar/anaconda/anaconda3/lib/python3.12/site-packages (from sympy==1.13.1->torch) (1.3.0)\n",
      "Requirement already satisfied: numpy in /Users/surajkumar/anaconda/anaconda3/lib/python3.12/site-packages (from torchvision) (1.26.4)\n",
      "Requirement already satisfied: pillow!=8.3.*,>=5.3.0 in /Users/surajkumar/anaconda/anaconda3/lib/python3.12/site-packages (from torchvision) (10.3.0)\n",
      "Requirement already satisfied: MarkupSafe>=2.0 in /Users/surajkumar/anaconda/anaconda3/lib/python3.12/site-packages (from jinja2->torch) (2.1.3)\n",
      "Note: you may need to restart the kernel to use updated packages.\n"
     ]
    }
   ],
   "source": [
    "pip install torch torchvision torchaudio\n"
   ]
  },
  {
   "cell_type": "code",
   "execution_count": 6,
   "id": "a6a72370-e6f7-4f70-b12a-7aa073ff5fdd",
   "metadata": {},
   "outputs": [
    {
     "name": "stdout",
     "output_type": "stream",
     "text": [
      "False\n"
     ]
    }
   ],
   "source": [
    "import torch\n",
    "print(torch.cuda.is_available())\n"
   ]
  },
  {
   "cell_type": "code",
   "execution_count": 8,
   "id": "4321ceb0-382e-4d5a-afde-c13f3b931c3b",
   "metadata": {},
   "outputs": [
    {
     "name": "stdout",
     "output_type": "stream",
     "text": [
      "True\n"
     ]
    }
   ],
   "source": [
    "import torch\n",
    "print(torch.backends.mps.is_available())\n"
   ]
  },
  {
   "cell_type": "code",
   "execution_count": 18,
   "id": "4371b624-b04b-4daf-980a-3c4d7e1b03fb",
   "metadata": {},
   "outputs": [
    {
     "name": "stdout",
     "output_type": "stream",
     "text": [
      "ERROR: unknown command \"brew\"\n"
     ]
    }
   ],
   "source": [
    "!pip brew install tesseract\n"
   ]
  },
  {
   "cell_type": "code",
   "execution_count": 28,
   "id": "00fd664a-60e0-48c3-87b4-10894e600fe3",
   "metadata": {},
   "outputs": [
    {
     "name": "stdout",
     "output_type": "stream",
     "text": [
      "FPS (GPU): 1786.92, Latency (GPU): 0.0006 seconds per image\n",
      "FPS (CPU): 660.18, Latency (CPU): 0.0015 seconds per image\n",
      "Memory usage (CPU): 102.78 MB\n",
      "Original OCR Output:\n",
      " \n",
      "GABRIEL Mepmall...\n",
      "\n",
      "\n",
      "Processed OCR Output:\n",
      " \n",
      "GABRIEL MermaLll...\n",
      "\n"
     ]
    },
    {
     "data": {
      "image/png": "[encoded data removed]",
      "text/plain": [
       "<Figure size 1200x500 with 2 Axes>"
      ]
     },
     "metadata": {},
     "output_type": "display_data"
    }
   ],
   "source": [
    "import torch\n",
    "import torch.nn as nn\n",
    "import torch.nn.functional as F\n",
    "import time\n",
    "import psutil  # For memory usage tracking\n",
    "import matplotlib.pyplot as plt  # For graph plotting\n",
    "\n",
    "# Define the MockOCRModel class with necessary adjustments\n",
    "class MockOCRModel(nn.Module):\n",
    "    def __init__(self, input_height, input_width, num_classes):\n",
    "        super(MockOCRModel, self).__init__()\n",
    "        \n",
    "        # Convolutional layers\n",
    "        self.conv1 = nn.Conv2d(1, 64, kernel_size=3, stride=1, padding=1)\n",
    "        self.conv2 = nn.Conv2d(64, 128, kernel_size=3, stride=1, padding=1)\n",
    "        \n",
    "        # Fully connected layer - will initialize later dynamically\n",
    "        self.fc = None\n",
    "        self._initialize_fc(input_height, input_width)\n",
    "    \n",
    "    def _initialize_fc(self, input_height, input_width):\n",
    "        # Pass a dummy input through the network to calculate the output size\n",
    "        dummy_input = torch.zeros(1, 1, input_height, input_width)  # Replace with the actual input size\n",
    "        x = self.conv1(dummy_input)\n",
    "        x = self.conv2(x)\n",
    "        x = F.relu(x)\n",
    "        x = x.view(x.size(0), -1)  # Flatten the tensor\n",
    "        \n",
    "        # Initialize the fully connected layer with the correct input size\n",
    "        self.fc = nn.Linear(x.size(1), 10)  # Assuming 10 output classes\n",
    "    \n",
    "    def forward(self, x):\n",
    "        # Forward pass through the model\n",
    "        x = self.conv1(x)\n",
    "        x = self.conv2(x)\n",
    "        x = F.relu(x)\n",
    "        x = x.view(x.size(0), -1)  # Flatten\n",
    "        x = self.fc(x)  # Fully connected layer\n",
    "        return x\n",
    "\n",
    "# Function to evaluate performance (FPS) of the model\n",
    "def evaluate_performance(model, image, device, runs=100):\n",
    "    model.eval()\n",
    "    model.to(device)  # Ensure model is on the correct device\n",
    "    image = image.to(device)  # Ensure input is on the correct device\n",
    "\n",
    "    start_time = time.time()\n",
    "\n",
    "    for _ in range(runs):\n",
    "        with torch.no_grad():\n",
    "            model(image)\n",
    "\n",
    "    end_time = time.time()\n",
    "    fps = runs / (end_time - start_time)\n",
    "\n",
    "    # Latency per image\n",
    "    latency = (end_time - start_time) / runs\n",
    "\n",
    "    return fps, latency\n",
    "\n",
    "# Check for available devices\n",
    "device_cpu = torch.device(\"cpu\")\n",
    "device_gpu = torch.device(\"cuda\" if torch.cuda.is_available() else \"mps\")\n",
    "\n",
    "# Prepare input image\n",
    "input_height = 32\n",
    "input_width = 32\n",
    "processed_image = torch.randn(1, 1, input_height, input_width)\n",
    "\n",
    "# Create the model instances\n",
    "cpu_model = MockOCRModel(input_height, input_width, num_classes=10)\n",
    "gpu_model = MockOCRModel(input_height, input_width, num_classes=10)\n",
    "\n",
    "# Evaluate performance on CPU and GPU\n",
    "fps_gpu, latency_gpu = evaluate_performance(gpu_model, processed_image, device_gpu)\n",
    "fps_cpu, latency_cpu = evaluate_performance(cpu_model, processed_image, device_cpu)\n",
    "\n",
    "# Print the results\n",
    "print(f\"FPS (GPU): {fps_gpu:.2f}, Latency (GPU): {latency_gpu:.4f} seconds per image\")\n",
    "print(f\"FPS (CPU): {fps_cpu:.2f}, Latency (CPU): {latency_cpu:.4f} seconds per image\")\n",
    "\n",
    "# Memory Usage (for CPU and GPU)\n",
    "process = psutil.Process()\n",
    "memory_cpu = process.memory_info().rss / (1024 ** 2)  # in MB\n",
    "print(f\"Memory usage (CPU): {memory_cpu:.2f} MB\")\n",
    "\n",
    "# OCR outputs (for comparison)\n",
    "ocr_output_original = \"\"\"\n",
    "GABRIEL Mepmall...\n",
    "\"\"\"  # (Original text)\n",
    "ocr_output_processed = \"\"\"\n",
    "GABRIEL MermaLll...\n",
    "\"\"\"  # (Processed text)\n",
    "\n",
    "# You can print or process OCR outputs further as needed\n",
    "print(\"Original OCR Output:\\n\", ocr_output_original)\n",
    "print(\"\\nProcessed OCR Output:\\n\", ocr_output_processed)\n",
    "\n",
    "# Plotting FPS and Latency for GPU vs CPU\n",
    "devices = ['GPU', 'CPU']\n",
    "fps_values = [fps_gpu, fps_cpu]\n",
    "latency_values = [latency_gpu, latency_cpu]\n",
    "\n",
    "# Plotting the results\n",
    "fig, ax = plt.subplots(1, 2, figsize=(12, 5))\n",
    "\n",
    "# FPS Plot\n",
    "ax[0].bar(devices, fps_values, color=['blue', 'green'])\n",
    "ax[0].set_title('FPS Comparison')\n",
    "ax[0].set_xlabel('Device')\n",
    "ax[0].set_ylabel('Frames Per Second')\n",
    "ax[0].set_ylim([0, max(fps_values) * 1.1])  # Scale y-axis to give some space\n",
    "\n",
    "# Latency Plot\n",
    "ax[1].bar(devices, latency_values, color=['blue', 'green'])\n",
    "ax[1].set_title('Latency Comparison')\n",
    "ax[1].set_xlabel('Device')\n",
    "ax[1].set_ylabel('Seconds per Image')\n",
    "ax[1].set_ylim([0, max(latency_values) * 1.1])  # Scale y-axis to give some space\n",
    "\n",
    "# Show the plots\n",
    "plt.tight_layout()\n",
    "plt.show()\n"
   ]
  }
 ],
 "metadata": {
  "kernelspec": {
   "display_name": "Python 3 (ipykernel)",
   "language": "python",
   "name": "python3"
  },
  "language_info": {
   "codemirror_mode": {
    "name": "ipython",
    "version": 3
   },
   "file_extension": ".py",
   "mimetype": "text/x-python",
   "name": "python",
   "nbconvert_exporter": "python",
   "pygments_lexer": "ipython3",
   "version": "3.12.4"
  }
 },
 "nbformat": 4,
 "nbformat_minor": 5
}
